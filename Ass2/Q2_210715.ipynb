{
 "cells": [
  {
   "cell_type": "code",
   "execution_count": null,
   "id": "54505210a132825c",
   "metadata": {
    "ExecuteTime": {
     "end_time": "2023-11-13T09:35:27.888826300Z",
     "start_time": "2023-11-13T09:35:27.543592900Z"
    },
    "collapsed": false
   },
   "outputs": [],
   "source": [
    "import numpy as np\n",
    "import cv2\n",
    "import time"
   ]
  },
  {
   "cell_type": "code",
   "execution_count": null,
   "id": "f0f6fa69",
   "metadata": {
    "ExecuteTime": {
     "end_time": "2023-11-13T09:35:27.905044500Z",
     "start_time": "2023-11-13T09:35:27.901195300Z"
    },
    "collapsed": false
   },
   "outputs": [],
   "source": [
    "def gaussian(x, sigma):\n",
    "    return (1 / (2 * np.pi * sigma**2)) * np.exp(-x**2 / (2 * sigma**2))\n",
    "\n",
    "def bilateral_filter(image, diameter, sigma_color, sigma_space):\n",
    "    height, width = image.shape\n",
    "    result = np.zeros_like(image, dtype=np.float64)\n",
    "    for i in range(height):\n",
    "        for j in range(width):\n",
    "            intensity = image[i, j]\n",
    "            # Create 2D arrays representing pixel coordinates\n",
    "            x_coords, y_coords = np.meshgrid(\n",
    "                np.arange(max(0, i - diameter), min(height, i + diameter + 1)),\n",
    "                np.arange(max(0, j - diameter), min(width, j + diameter + 1))\n",
    "            )\n",
    "            \n",
    "            spatial_distance = np.sqrt((i - x_coords)**2 + (j - y_coords)**2)\n",
    "            intensity_difference = intensity - image[x_coords, y_coords]\n",
    "            spatial_weight = gaussian(spatial_distance, sigma_space)\n",
    "            # spatial_weight = spatial_weight[:, :, np.newaxis]\n",
    "            intensity_weight = gaussian(intensity_difference, sigma_color)\n",
    "\n",
    "            weight = spatial_weight * intensity_weight\n",
    "            weighted_sum = np.sum(image[x_coords, y_coords] * weight)\n",
    "            total_weight = np.sum(weight)\n",
    "\n",
    "            result[i, j] = weighted_sum / total_weight\n",
    "\n",
    "    return result.astype(np.uint8)\n",
    "\n",
    "# flash = cv2.imread(\"./Assignment-2/Q2/ultimate_test/2_a.jpg\")\n",
    "# diameter = 3\n",
    "# sigma_color = 75\n",
    "# sigma_space = 75\n",
    "# \n",
    "# # Apply the bilateral filter\n",
    "# start_time = time.time()\n",
    "# filtered_image = bilateral_filter_numpy(flash, diameter, sigma_color, sigma_space)\n",
    "# end_time = time.time()\n",
    "# runtime = end_time - start_time\n",
    "# \n",
    "# print(f\"Runtime: {runtime} seconds\")\n",
    "# \n",
    "# # Display the original and filtered images\n",
    "# cv2.imshow('Original Image', flash)\n",
    "# cv2.imshow('Bilateral Filtered Image', filtered_image)\n",
    "# cv2.waitKey(0)\n",
    "# cv2.destroyAllWindows()\n"
   ]
  },
  {
   "cell_type": "code",
   "execution_count": null,
   "id": "c7db87195251c5a3",
   "metadata": {
    "ExecuteTime": {
     "end_time": "2023-11-13T09:35:27.984108100Z",
     "start_time": "2023-11-13T09:35:27.962748500Z"
    },
    "collapsed": false
   },
   "outputs": [],
   "source": [
    "def decouple_intensity_color(image):\n",
    "    # Convert the image to the LAB color space\n",
    "    lab_image = cv2.cvtColor(image, cv2.COLOR_BGR2LAB)\n",
    "\n",
    "    # Extract the L (intensity) channel\n",
    "    intensity_channel = lab_image[:, :, 0]\n",
    "\n",
    "    # Merge the color maps with the intensity channel\n",
    "    color_image = image/intensity_channel[:,:,np.newaxis]\n",
    "    color_image *= 255\n",
    "    return intensity_channel, color_image\n",
    "# \n",
    "# # Read the image\n",
    "# image = cv2.imread('./Assignment-2/Q2/ultimate_test/2_b.jpg')\n",
    "# \n",
    "# # Check if the image is loaded successfully\n",
    "# if image is not None:\n",
    "#     # Decouple the image into intensity and color components\n",
    "#     intensity, color = decouple_intensity_color(image)\n",
    "# \n",
    "#     # Display the original image, intensity, and color images\n",
    "#     cv2.imshow('Original Image', image)\n",
    "#     cv2.imshow('Intensity', intensity)\n",
    "#     cv2.imshow('Color', color)\n",
    "# \n",
    "#     # Wait for a key press and close the windows\n",
    "#     cv2.waitKey(0)\n",
    "#     cv2.destroyAllWindows()\n",
    "# else:\n",
    "#     print(\"Error loading the image.\")\n"
   ]
  },
  {
   "cell_type": "code",
   "execution_count": null,
   "id": "1de90ef7e8144af7",
   "metadata": {
    "ExecuteTime": {
     "end_time": "2023-11-13T09:37:20.959419900Z",
     "start_time": "2023-11-13T09:37:20.905908700Z"
    },
    "collapsed": false
   },
   "outputs": [],
   "source": [
    "def decouple_largescale_detail(intensity):\n",
    "    sigma_s = 105  # Spatial standard deviation\n",
    "    sigma_r = 4  # Intensity standard deviation\n",
    "    diameter = 0\n",
    "    # large_scale_layer = cv2.bilateralFilter(intensity, d=0, sigmaColor=sigma_r, sigmaSpace=sigma_s)\n",
    "    large_scale_layer = bilateral_filter(intensity, diameter=diameter, sigma_color=sigma_r, sigma_space=sigma_s)\n",
    "    detail_layer = np.clip(intensity - large_scale_layer, 0, 255).astype(np.uint8)\n",
    "    return large_scale_layer,detail_layer\n",
    "\n",
    "\n",
    "# image = cv2.imread('./Assignment-2/Q2/ultimate_test/2_b.jpg')\n",
    "\n",
    "# cv2.imshow(\"original\",intensity)\n",
    "# cv2.imshow(\"large_scale\",large_scale_layer)\n",
    "# cv2.imshow(\"detail\",detail_layer)\n",
    "# cv2.waitKey()\n",
    "# cv2.destroyAllWindows()\n"
   ]
  },
  {
   "cell_type": "code",
   "execution_count": null,
   "id": "f7f3d5c5c6ad8b89",
   "metadata": {
    "ExecuteTime": {
     "end_time": "2023-11-13T09:37:21.117370300Z",
     "start_time": "2023-11-13T09:37:21.090251600Z"
    },
    "collapsed": false
   },
   "outputs": [],
   "source": [
    "def combine_detail_largescale(detail_layer,large_scale_layer):\n",
    "    reconstructed_image = detail_layer + large_scale_layer\n",
    "    reconstructed_image = np.clip(reconstructed_image, 0, 255).astype(np.uint8)\n",
    "    return reconstructed_image\n",
    "# Combine the detail and large-scale layers\n",
    "\n",
    "# Clip the reconstructed image to [0, 255] if necessary\n",
    "\n",
    "# Display or save the reconstructed image\n",
    "# cv2.imshow('Reconstructed Image', reconstructed_image)\n",
    "# cv2.waitKey(0)\n",
    "# cv2.destroyAllWindows()\n",
    "# \n",
    "# If you want to save the reconstructed image\n",
    "# cv2.imwrite('reconstructed_image.jpg', reconstructed_image)\n"
   ]
  },
  {
   "cell_type": "code",
   "execution_count": null,
   "id": "73ba0fab9e3c7065",
   "metadata": {
    "ExecuteTime": {
     "end_time": "2023-11-13T09:37:21.322539900Z",
     "start_time": "2023-11-13T09:37:21.298908500Z"
    },
    "collapsed": false
   },
   "outputs": [],
   "source": [
    "def combine_color_intensity(color_image,intensity_image):\n",
    "    normalized_intensity = intensity_image.astype(float) / 255.0\n",
    "    normalized_color_image = color_image * normalized_intensity[:, :, np.newaxis]\n",
    "    normalized_color_image = np.clip(normalized_color_image, 0, 255).astype(np.uint8)\n",
    "    return normalized_color_image\n"
   ]
  },
  {
   "cell_type": "code",
   "execution_count": 7,
   "id": "ba029005f69adbb0",
   "metadata": {
    "ExecuteTime": {
     "end_time": "2023-11-13T09:38:10.764616600Z",
     "start_time": "2023-11-13T09:37:21.514706200Z"
    },
    "collapsed": false
   },
   "outputs": [],
   "source": [
    "flash = cv2.imread('./ultimate_test/2_b.jpg')\n",
    "no_flash = cv2.imread('./ultimate_test/2_a.jpg')\n",
    "no_flash_intensity, _ = decouple_intensity_color(no_flash)\n",
    "no_flash_largescale, _ = decouple_largescale_detail(no_flash_intensity)\n",
    "flash_intensity,flash_color = decouple_intensity_color(flash)\n",
    "_, flash_detail = decouple_largescale_detail(flash_intensity)\n",
    "combined_intensity = combine_detail_largescale(flash_detail,no_flash_largescale)\n",
    "filtered_image = combine_color_intensity(flash_color,combined_intensity)\n",
    "cv2.imshow(\"no_falsh_color\",no_flash_largescale)\n",
    "cv2.imshow(\"falsh_color\",flash_color)\n",
    "cv2.imshow(\"flash_detail\",flash_detail)\n",
    "cv2.imshow(\"Flash Image\",flash)\n",
    "cv2.imshow(\"No Flash Image\",no_flash)\n",
    "cv2.imshow(\"Filtered Image\",filtered_image)\n",
    "cv2.waitKey(0)\n",
    "cv2.destroyAllWindows()"
   ]
  },
  {
   "cell_type": "code",
   "execution_count": null,
   "metadata": {},
   "outputs": [],
   "source": []
  }
 ],
 "metadata": {
  "kernelspec": {
   "display_name": "Python 3 (ipykernel)",
   "language": "python",
   "name": "python3"
  },
  "language_info": {
   "codemirror_mode": {
    "name": "ipython",
    "version": 3
   },
   "file_extension": ".py",
   "mimetype": "text/x-python",
   "name": "python",
   "nbconvert_exporter": "python",
   "pygments_lexer": "ipython3",
   "version": "3.11.4"
  }
 },
 "nbformat": 4,
 "nbformat_minor": 5
}
